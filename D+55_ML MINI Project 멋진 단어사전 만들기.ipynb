{
 "cells": [
  {
   "cell_type": "markdown",
   "id": "52c2c855",
   "metadata": {},
   "source": [
    "# 형태소 기반 토큰화를 이용, 한국어 사전 만들기\n",
    "\n",
    "## 1. 설치 및 다운로드"
   ]
  },
  {
   "cell_type": "code",
   "execution_count": 1,
   "id": "6a74d0d1",
   "metadata": {},
   "outputs": [
    {
     "name": "stdout",
     "output_type": "stream",
     "text": [
      "['자연어', '처리', '가', '너무', '재밌', '어서', '밥', '먹', '는', '것', '도', '가끔', '까먹', '어요']\n"
     ]
    }
   ],
   "source": [
    "from konlpy.tag import Mecab\n",
    "\n",
    "mecab = Mecab()\n",
    "print(mecab.morphs('자연어처리가너무재밌어서밥먹는것도가끔까먹어요'))"
   ]
  },
  {
   "cell_type": "code",
   "execution_count": 2,
   "id": "a8f4c74f",
   "metadata": {},
   "outputs": [],
   "source": [
    "import os\n",
    "\n",
    "import matplotlib.pyplot as plt\n",
    "import tensorflow as tf\n",
    "import numpy as np\n",
    "\n",
    "%matplotlib inline\n",
    "\n",
    "# #터미널\n",
    "# wget https://github.com/jungyeul/korean-parallel-corpora/raw/master/korean-english-news-v1/korean-english-park.train.tar.gz\n",
    "# mkdir -p ~/aiffel/sp_tokenizer/data\n",
    "# mv korean-english-park.train.tar.gz ~/aiffel/sp_tokenizer/data\n",
    "# cd ~/aiffel/sp_tokenizer/data\n",
    "# tar -xzvf korean-english-park.train.tar.gz"
   ]
  },
  {
   "cell_type": "markdown",
   "id": "4551e3e8",
   "metadata": {},
   "source": [
    "## 2. 데이터 다운로드 및 분석 (환경 구성)"
   ]
  },
  {
   "cell_type": "code",
   "execution_count": 3,
   "id": "1257db9a",
   "metadata": {},
   "outputs": [
    {
     "name": "stdout",
     "output_type": "stream",
     "text": [
      "Data Size: 94123\n",
      "Example:\n",
      ">> 개인용 컴퓨터 사용의 상당 부분은 \"이것보다 뛰어날 수 있느냐?\"\n",
      ">> 북한의 핵무기 계획을 포기하도록 하려는 압력이 거세지고 있는 가운데, 일본과 북한의 외교관들이 외교 관계를 정상화하려는 회담을 재개했다.\n",
      ">> \"경호 로보트가 침입자나 화재를 탐지하기 위해서 개인적으로, 그리고 전문적으로 사용되고 있습니다.\"\n",
      ">> 수자원부 당국은 논란이 되고 있고, 막대한 비용이 드는 이 사업에 대해 내년에 건설을 시작할 계획이다.\n",
      ">> 또한 근력 운동은 활발하게 걷는 것이나 최소한 20분 동안 뛰는 것과 같은 유산소 활동에서 얻는 운동 효과를 심장과 폐에 주지 않기 때문에, 연구학자들은 근력 운동이 심장에 큰 영향을 미치는지 여부에 대해 논쟁을 해왔다.\n"
     ]
    }
   ],
   "source": [
    "import os  # 운영체제와 상호작용하기 위한 모듈 (환경 변수, 파일 경로 등)\n",
    "\n",
    "# 환경 변수 'HOME'을 기준으로 파일 경로를 구성\n",
    "# 예: '/root/aiffel/sp_tokenizer/data/korean-english-park.train.ko'\n",
    "path_to_file = os.getenv('HOME') + '/aiffel/sp_tokenizer/data/korean-english-park.train.ko'\n",
    "\n",
    "# 지정된 파일을 읽고 줄 단위로 나눠서 리스트로 저장\n",
    "with open(path_to_file, \"r\") as f:\n",
    "    raw = f.read().splitlines()  # 줄 끝의 개행 문자 제거한 채로 각 줄을 요소로 저장\n",
    "\n",
    "# 전체 문장 수 출력\n",
    "print(\"Data Size:\", len(raw))\n",
    "\n",
    "# 예시 문장 출력\n",
    "print(\"Example:\")\n",
    "for sen in raw[0:100][::20]:  # 처음 100개 문장에서 20개 간격으로 추출\n",
    "    print(\">>\", sen)  # 예시 문장 출력\n"
   ]
  },
  {
   "cell_type": "markdown",
   "id": "7339f833",
   "metadata": {},
   "source": [
    "## 한글 사전 만들 때 참고 자료 \n",
    "## jungyeul/korean-parallel-corpora"
   ]
  },
  {
   "cell_type": "code",
   "execution_count": 4,
   "id": "f5fc4beb",
   "metadata": {},
   "outputs": [
    {
     "name": "stdout",
     "output_type": "stream",
     "text": [
      "문장의 최단 길이: 1\n",
      "문장의 최장 길이: 377\n",
      "문장의 평균 길이: 60\n"
     ]
    },
    {
     "data": {
      "image/png": "[encoded data removed]",
      "text/plain": [
       "<Figure size 432x288 with 1 Axes>"
      ]
     },
     "metadata": {
      "needs_background": "light"
     },
     "output_type": "display_data"
    }
   ],
   "source": [
    "min_len = 999\n",
    "max_len = 0\n",
    "sum_len = 0\n",
    "\n",
    "for sen in raw:\n",
    "    length = len(sen)\n",
    "    if min_len > length: min_len = length\n",
    "    if max_len < length: max_len = length\n",
    "    sum_len += length\n",
    "\n",
    "print(\"문장의 최단 길이:\", min_len)\n",
    "print(\"문장의 최장 길이:\", max_len)\n",
    "print(\"문장의 평균 길이:\", sum_len // len(raw))\n",
    "\n",
    "sentence_length = np.zeros((max_len), dtype=int)\n",
    "\n",
    "for sen in raw:\n",
    "    sentence_length[len(sen)-1] += 1\n",
    "\n",
    "plt.bar(range(max_len), sentence_length, width=1.0)\n",
    "plt.title(\"Sentence Length Distribution\")\n",
    "plt.show()"
   ]
  },
  {
   "cell_type": "code",
   "execution_count": 5,
   "id": "16fb711a",
   "metadata": {},
   "outputs": [
    {
     "name": "stdout",
     "output_type": "stream",
     "text": [
      "’\n"
     ]
    }
   ],
   "source": [
    "# 최단 길이 1, 최장 길이 377... 그리고 제법 그럴듯한 막대그래프가 나왔습니다만, 이 결과를 확인하고 드는 생각은 아래와 크게 다르지 않으실 거예요..!\n",
    "\n",
    "# 1) 길이 1 짜리 문장은 도대체 어떻게 생겨먹었지?\n",
    "\n",
    "# 2) 앞에 치솟는 임의의 구간은 뭐지? 유의미한 데이터가 담겨있는 부분인가?\n",
    "\n",
    "# 3) 어디서부터 어디까지 잘라서 쓰지?\n",
    "\n",
    "# 궁금증을 하나하나 해결해 봅시다! 대체 길이가 1인 문장은 뭘까요?\n",
    "\n",
    "# 길이가 특정 값(length)인 문장을 출력하는 함수 정의\n",
    "def check_sentence_with_length(raw, length):\n",
    "    count = 0  # 출력한 문장 개수를 저장하는 변수 초기화\n",
    "    \n",
    "    for sen in raw:  # 말뭉치(raw)의 각 문장을 반복\n",
    "        if len(sen) == length:  # 문장의 길이가 지정한 length와 같다면\n",
    "            print(sen)  # 해당 문장 출력\n",
    "            count += 1  # 출력한 문장 수 증가\n",
    "            if count > 100:  # 100개를 초과하면 함수 종료\n",
    "                return\n",
    "\n",
    "# 길이가 1인 문장을 찾아서 최대 100개까지 출력\n",
    "check_sentence_with_length(raw, 1)\n"
   ]
  },
  {
   "cell_type": "code",
   "execution_count": 6,
   "id": "65482109",
   "metadata": {},
   "outputs": [
    {
     "name": "stdout",
     "output_type": "stream",
     "text": [
      "Outlier Index: 11\n",
      "Outlier Index: 19\n",
      "Outlier Index: 21\n"
     ]
    }
   ],
   "source": [
    "for idx, _sum in enumerate(sentence_length):\n",
    "    # 문장의 수가 1500을 초과하는 문장 길이를 추출합니다.\n",
    "    if _sum > 1500:\n",
    "        print(\"Outlier Index:\", idx+1)"
   ]
  },
  {
   "cell_type": "code",
   "execution_count": 7,
   "id": "4c944989",
   "metadata": {},
   "outputs": [
    {
     "name": "stdout",
     "output_type": "stream",
     "text": [
      "라고 조던이 말했다.\n",
      "- 모르고 있습니다.\n",
      "- 네, 보이는군요.\n",
      "디즈니사만이 아니다.\n",
      "큰 파티는 아니지요.\n",
      "의자는 비어 있었다.\n",
      "이 일은 계속됩니다.\n",
      "나는 크게 실망했다.\n",
      "그 이유는 간단하다.\n",
      "이력서와 자기 소개서\n",
      "시대가 변하고 있다.\n",
      "는 돌발질문을 했다.\n",
      "9. 몇 분간의 명상\n",
      "하와이, 빅 아일랜드\n",
      "키스를 잘 하는 방법\n",
      "키스를 잘 하는 방법\n",
      "스피어스가 뚱뚱한가?\n",
      "산 위를 나는 느낌.\n",
      "세 시간쯤 걸었을까?\n",
      "(아직 읽고있습니까?\n",
      "처음에는 장난이었다.\n",
      "우리는 운이 좋았다.\n",
      "아기가 숨을 멈출 때\n",
      "건물 전체 무너져내려\n",
      "그녀의 아름다운 눈.\n",
      "대답은 다음과 같다.\n",
      "\"사과할 것이 없다.\n",
      "폭탄테러가 공포 유발\n",
      "그는 \"잘 모르겠다.\n",
      "그는 \"잘 모르겠다.\n",
      "그는 \"잘 모르겠다.\n",
      "그는 \"잘 모르겠다.\n",
      "그는 \"잘 모르겠다.\n",
      "그는 \"잘 모르겠다.\n",
      "그는 \"잘 모르겠다.\n",
      "그는 \"잘 모르겠다.\n",
      "그는 \"잘 모르겠다.\n",
      "케냐 야생동물 고아원\n",
      "경유 1200원대로…\n",
      "더 내려야 하는 이유\n",
      "케냐 야생동물 고아원\n",
      "경유 1200원대로…\n",
      "더 내려야 하는 이유\n",
      "케냐 야생동물 고아원\n",
      "경유 1200원대로…\n",
      "더 내려야 하는 이유\n",
      "케냐 야생동물 고아원\n",
      "경유 1200원대로…\n",
      "더 내려야 하는 이유\n",
      "케냐 야생동물 고아원\n",
      "경유 1200원대로…\n",
      "더 내려야 하는 이유\n",
      "케냐 야생동물 고아원\n",
      "경유 1200원대로…\n",
      "더 내려야 하는 이유\n",
      "케냐 야생동물 고아원\n",
      "경유 1200원대로…\n",
      "더 내려야 하는 이유\n",
      "케냐 야생동물 고아원\n",
      "경유 1200원대로…\n",
      "더 내려야 하는 이유\n",
      "케냐 야생동물 고아원\n",
      "경유 1200원대로…\n",
      "더 내려야 하는 이유\n",
      "케냐 야생동물 고아원\n",
      "경유 1200원대로…\n",
      "더 내려야 하는 이유\n",
      "케냐 야생동물 고아원\n",
      "경유 1200원대로…\n",
      "더 내려야 하는 이유\n",
      "케냐 야생동물 고아원\n",
      "경유 1200원대로…\n",
      "더 내려야 하는 이유\n",
      "케냐 야생동물 고아원\n",
      "경유 1200원대로…\n",
      "더 내려야 하는 이유\n",
      "케냐 야생동물 고아원\n",
      "경유 1200원대로…\n",
      "더 내려야 하는 이유\n",
      "케냐 야생동물 고아원\n",
      "경유 1200원대로…\n",
      "더 내려야 하는 이유\n",
      "케냐 야생동물 고아원\n",
      "경유 1200원대로…\n",
      "더 내려야 하는 이유\n",
      "케냐 야생동물 고아원\n",
      "경유 1200원대로…\n",
      "더 내려야 하는 이유\n",
      "케냐 야생동물 고아원\n",
      "경유 1200원대로…\n",
      "더 내려야 하는 이유\n",
      "케냐 야생동물 고아원\n",
      "경유 1200원대로…\n",
      "더 내려야 하는 이유\n",
      "케냐 야생동물 고아원\n",
      "경유 1200원대로…\n",
      "더 내려야 하는 이유\n",
      "조금은 새침한 샬롯？\n",
      "조금은 새침한 샬롯？\n",
      "케냐 야생동물 고아원\n",
      "경유 1200원대로…\n"
     ]
    }
   ],
   "source": [
    "check_sentence_with_length(raw, 11)"
   ]
  },
  {
   "cell_type": "code",
   "execution_count": 8,
   "id": "6a33b2cb",
   "metadata": {},
   "outputs": [
    {
     "name": "stdout",
     "output_type": "stream",
     "text": [
      "성공할 수 있는 일들이 있습니다.\"\n",
      "두번째 목적은 상품을 파는 것이다.\n",
      "그것들은 무엇을 하기 위한 것인가?\n",
      "- 어째서 그렇게 대단한 것입니까?\n",
      "불매운동가들의 시선을 끌고 싶은가?\n",
      "그리고 우리는 계속해서 외식을 하며\n",
      "(나는 그가 정직하다고 생각한다.)\n",
      "박스데일도 동일한 기법을 사용한다.\n",
      "\"우리는 전속력으로 달려야 합니다.\n",
      "수익은 연 25%씩 늘어나고 있다.\n",
      "미국인 반체제 인사 해리 우의 운명\n",
      "국가를 위해 좋은 일이 될 것이라고\n",
      "무역 적자는 무역 흑자로 돌아섰으며\n",
      "경찰에서조차 수사를 벌이고 있습니다\n",
      "다음 번이 3월1일로 예정되어있다.\n",
      "우리는 허구적인 시대에 살고 있다.\n",
      "모 아니면 도였지요’’라고 말했다.\n",
      "이씨는 짧았던 결혼을 세 번 했다.\n",
      "하지만 성인이 되려면 아직 멀었다.\n",
      "양국은 상호 3위의 교역상대국이다.\n",
      "어떻게 지속적인 동기부여를 받느냐?\n",
      "편지는 의사소통 이상의 일을 한다.\n",
      "식량 부족으로 고통받는 북한 주민들\n",
      "그는 뉴욕 금융지구에 살고 있었다.\n",
      "6. “교회에 열심히 나가는가요?”\n",
      "신문사가 발견된 기밀문서를 받았다.\n",
      "3.인맥을 두루 갖춰놓지 못하는 것\n",
      "15.면접 질문에 집중하지 않는 것\n",
      "20.월급 이야기를 일찍 꺼내는 것\n",
      "디아즈는 진지해지려고 하지 않는다.\n",
      "전갈은 월마트 직원에 의해 잡혔다.\n",
      "4.여성은 증상을 스스로 진단한다.\n",
      "당시 휴스는 \"나는 다스 베이더다!\n",
      "회사에 대해 약간의 조사를 한다.:\n",
      "스폰지에 물을 묻혀 청소해도 된다.\n",
      "그러나 이를 뒷받침할 증거는 없다.\n",
      "그는 올해 가을 손자를 보게 된다.\n",
      "린은 칼을 이용해 쓰레기를 뒤진다.\n",
      "거주지가 소아과 병원 인근일 경우.\n",
      "언제든 메모해 두고 가지고 다닌다.\n",
      "대법원의 심리는 6일부터 시작됐다.\n",
      "* 원하는 가격에 흥정을 하는 방법\n",
      "그는 치료 중이던 26일 사망했다.\n",
      "무샤라프 대통령은 참석하지 않았다.\n",
      "이미 경영진 2500명이 해임됐다.\n",
      "스피처는 3명의 자녀를 두고 있다.\n",
      "이들은 보통 10일 내로 사망한다.\n",
      "그는 “왜 대통령이 되려 하느냐?”\n",
      "* 뗏목, 카누등을 타고 구경할 때\n",
      "유대인연합은 법원 결정을 환영했다.\n",
      "\"반사적으로 유도 기술을 사용했다.\n",
      "위원회는 4월 최종 결론을 내린다.\n",
      "기자와 승무원은 얼마 후 석방됐다.\n",
      "그는 아버지와 닮은 것을 인정했다.\n",
      "대부분 서신 시작 내용은 평범하다.\n",
      "그러나 예기치 못한 반전이 있었다.\n",
      "그러던 닌이 이번 에 은퇴를 한다.\n",
      "선거의 최종결과는 24일 발표된다.\n",
      "그는 “위험이 존재한다”고 말했다.\n",
      "아유무라는 침팬지가 가장 잘 했다.\n",
      "이들은 테러 관련 혐의로 수감됐다.\n",
      "*물건은 포장지로 포장하지 않는다.\n",
      "윤리적이고 정치적인 장애물이 있다.\n",
      "유로스타의 운행은 중단되지 않는다.\n",
      "반면 유럽 증시는 보합세를 보였다.\n",
      "고 탄성을 지르는 것을 알고 있다.\n",
      "버섯은 저칼로이지만 영양가는 낮다.\n",
      "소도시와 대도시간 통신도 중단됐다.\n",
      "추락 원인은 아직 알려지지 않았다.\n",
      "실제 아무 문제가 없다”고 전했다.\n",
      "그는 인명피해는 없었다고 덧붙였다.\n",
      "또 최소 30명이 다쳤다고 전했다.\n",
      "이 교전에서 반군 65명이 숨졌다.\n",
      "‘불비’가 3일 동안 계속 내렸다.\n",
      "물론 아이들은 이 주형을 좋아했다.\n",
      "공항 근처의 보안도 한층 강화됐다.\n",
      "체코에서 맥주는 기본적인 음료이다.\n",
      "그러나 체코 사람들은 그렇지 않다.\n",
      "내년 여름에는 자동차를 이용할 것.\n",
      "마샬은 정교하고 신중한 사람이었다.\n",
      "무엇이 이 변질을 가속화 시키는가?\n",
      "팩은 라이스와 함께 운전 중이었다.\n",
      "이 교회는 신석기 시대 묘지였었다.\n",
      "이라크의 인구는 2600만명이이다.\n",
      "비록 짧은 모험이지만 ‘트랜스포머:\n",
      "랜즈먼은 또 다른 문제에 직면했다.\n",
      "브랜든 톰슨 소방관, 27 (4년)\n",
      "최종 결정은 오는 26일 내려진다.\n",
      "젊은 부부는 벨스에 집을 장만했다.\n",
      "그의 아버지도 이 사실을 확인했다.\n",
      "이 시계가 땅바닥에 떨어진 것일까?\n",
      "또한 인명 피해도 없었다고 말했다.\n",
      "그러나 우리를 너무 무시하고 있다.\n",
      "마가 말한것은 옳지않다\"고 말했다.\n",
      "\"이전 탄압은 매우 복잡한 문제다.\n",
      "뱀의 가격은 아직 알려지지 않았다.\n",
      "이 컴퓨터가 얼마나 환경친화적인가?\n",
      "최근 이라크 유치원 졸업식의 풍경.\n",
      "▲오바마, \"1등은 장난이 아니야\"\n",
      "그 모든 것은 오래전부터 시작됐다.\n",
      "금속 지붕은 폭발로 떨어져 나갔다.\n"
     ]
    }
   ],
   "source": [
    "check_sentence_with_length(raw, 19)"
   ]
  },
  {
   "cell_type": "code",
   "execution_count": 9,
   "id": "466b5250",
   "metadata": {},
   "outputs": [
    {
     "name": "stdout",
     "output_type": "stream",
     "text": [
      "Data Size: 77591\n",
      "문장의 최단 길이: 1\n",
      "문장의 최장 길이: 377\n",
      "문장의 평균 길이: 64\n"
     ]
    },
    {
     "data": {
      "image/png": "[encoded data removed]",
      "text/plain": [
       "<Figure size 432x288 with 1 Axes>"
      ]
     },
     "metadata": {
      "needs_background": "light"
     },
     "output_type": "display_data"
    }
   ],
   "source": [
    "#중복 제거는 Python의 기본 자료형 set을 활용 - \n",
    "#대신 list의 순서가 뒤죽박죽될 수 있으니, 만약 번역 데이터처럼 쌍을 이뤄야 하는 경우라면 주의해서 사용\n",
    "\n",
    "import numpy as np\n",
    "import matplotlib.pyplot as plt\n",
    "\n",
    "# 변수 초기화\n",
    "min_len = 999  # 최단 문장 길이 초기값 (임의로 큰 값으로 설정)\n",
    "max_len = 0    # 최장 문장 길이 초기값\n",
    "sum_len = 0    # 전체 문장 길이 합계\n",
    "\n",
    "# 중복 문장 제거 (set으로 변환 후 다시 list로 변환)\n",
    "cleaned_corpus = list(set(raw))  \n",
    "print(\"Data Size:\", len(cleaned_corpus))  # 중복 제거 후 문장 수 출력\n",
    "\n",
    "# 각 문장의 길이를 순회하며 최단/최장/평균 길이를 계산\n",
    "for sen in cleaned_corpus:\n",
    "    length = len(sen)  # 문장 길이\n",
    "    if min_len > length: min_len = length  # 최단 길이 갱신\n",
    "    if max_len < length: max_len = length  # 최장 길이 갱신\n",
    "    sum_len += length  # 전체 길이 누적\n",
    "\n",
    "# 결과 출력\n",
    "print(\"문장의 최단 길이:\", min_len)\n",
    "print(\"문장의 최장 길이:\", max_len)\n",
    "print(\"문장의 평균 길이:\", sum_len // len(cleaned_corpus))  # 평균 길이 (정수 나눗셈)\n",
    "\n",
    "# 문장 길이 분포를 저장할 배열 (길이 1 ~ max_len)\n",
    "sentence_length = np.zeros((max_len), dtype=int)\n",
    "\n",
    "# 각 문장의 길이를 기준으로 카운트\n",
    "for sen in cleaned_corpus:\n",
    "    sentence_length[len(sen)-1] += 1  # 길이 i인 문장은 인덱스 i-1에 카운트\n",
    "\n",
    "# 시각화: 문장 길이 분포 히스토그램\n",
    "plt.bar(range(max_len), sentence_length, width=1.0)\n",
    "plt.title(\"Sentence Length Distribution\")  # 그래프 제목\n",
    "plt.show()\n"
   ]
  },
  {
   "cell_type": "markdown",
   "id": "c7dc2964",
   "metadata": {},
   "source": [
    "## 전체 데이터를 사용하는 것은 비효율적:\n",
    "* 가장 긴 문장에 맞춰 padding 해야 하므로, 메모리 사용량과 연산 시간이 급증함 (예: 3.7배 이상).\n",
    "* 길이 기준 필터링 제안:\n",
    "- 150자 이상 문장 제거: 과도한 padding 방지.\n",
    "- 10자 미만 문장 제거: 너무 짧은 문장은 노이즈 가능성이 높음.\n",
    "* 미니 배치 구성 시 주의점:\n",
    "- 길이순 정렬은 padding은 줄이지만 데이터 섞임(randomness)에 편향을 유발할 수 있어 지양. 따라서 길이 10 이상 150 미만의 문장만 사용하고, 최종 데이터 분포를 확인할 예정.\n",
    "\n",
    "## Padding이란?\n",
    "- Padding(패딩)은 자연어 처리(NLP)에서 문장마다 길이가 다르기 때문에, 모든 문장의 길이를 동일하게 맞추기 위해 짧은 문장에 특별한 토큰(예: 0)을 추가하는 작업.\n",
    "\n"
   ]
  },
  {
   "cell_type": "code",
   "execution_count": 10,
   "id": "3984b397",
   "metadata": {},
   "outputs": [
    {
     "data": {
      "image/png": "[encoded data removed]",
      "text/plain": [
       "<Figure size 432x288 with 1 Axes>"
      ]
     },
     "metadata": {
      "needs_background": "light"
     },
     "output_type": "display_data"
    }
   ],
   "source": [
    "max_len = 150  # 최대 문장 길이 기준 (150자 미만만 사용)\n",
    "min_len = 10   # 최소 문장 길이 기준 (10자 이상만 사용)\n",
    "\n",
    "# 길이 조건에 맞는 문장만 필터링\n",
    "filtered_corpus = [s for s in cleaned_corpus if (len(s) < max_len) & (len(s) >= min_len)]\n",
    "\n",
    "# 문장 길이별 분포를 다시 초기화\n",
    "sentence_length = np.zeros((max_len), dtype=int)  # 길이 1~149까지의 카운트를 위한 배열\n",
    "\n",
    "# 필터링된 말뭉치를 기반으로 길이별 문장 수 카운팅\n",
    "for sen in filtered_corpus:\n",
    "    sentence_length[len(sen)-1] += 1  # 길이 i 문장은 인덱스 i-1에 기록\n",
    "\n",
    "# 시각화: 히스토그램 형태로 문장 길이 분포 그리기\n",
    "plt.bar(range(max_len), sentence_length, width=1.0)\n",
    "plt.title(\"Sentence Length Distribution\")  # 그래프 제목\n",
    "plt.show()\n"
   ]
  },
  {
   "cell_type": "markdown",
   "id": "de9a0a77",
   "metadata": {},
   "source": [
    "## 3. 공백 기반 토큰화 실습 및 문제점 확인\n"
   ]
  },
  {
   "cell_type": "code",
   "execution_count": 11,
   "id": "0dcdb359",
   "metadata": {},
   "outputs": [],
   "source": [
    "def tokenize(corpus):  # corpus: Tokenized Sentence's List (ex: 형태소 분석 또는 띄어쓰기 단위 문장 리스트)\n",
    "    # Tokenizer 객체 생성: 문자 필터링 설정 없음 (filters='')\n",
    "    tokenizer = tf.keras.preprocessing.text.Tokenizer(filters='')  \n",
    "    \n",
    "    # 말뭉치 전체를 기반으로 단어 사전(word index) 생성\n",
    "    tokenizer.fit_on_texts(corpus)\n",
    "\n",
    "    # 각 문장을 정수 시퀀스로 변환 (단어 → 고유 번호)\n",
    "    tensor = tokenizer.texts_to_sequences(corpus)\n",
    "\n",
    "    # 각 문장의 길이를 맞추기 위해 post-padding 적용 (뒤에 0 채움)\n",
    "    tensor = tf.keras.preprocessing.sequence.pad_sequences(tensor, padding='post')\n",
    "\n",
    "    # 전처리된 정수 시퀀스(tensor)와 tokenizer 객체 반환\n",
    "    return tensor, tokenizer"
   ]
  },
  {
   "cell_type": "code",
   "execution_count": 12,
   "id": "8e8f6531",
   "metadata": {},
   "outputs": [],
   "source": [
    "split_corpus = []  # 토큰화된 문장을 저장할 리스트 초기화\n",
    "\n",
    "for kor in filtered_corpus:  # 필터링된 문장들을 하나씩 반복\n",
    "    split_corpus.append(kor.split())  # 띄어쓰기 기준으로 단어 분할하여 저장"
   ]
  },
  {
   "cell_type": "code",
   "execution_count": 13,
   "id": "9307f1c2",
   "metadata": {},
   "outputs": [
    {
     "name": "stdout",
     "output_type": "stream",
     "text": [
      "Split Vocab Size: 237435\n"
     ]
    }
   ],
   "source": [
    "# ✅ tokenize 함수는 정수 시퀀스(tensor)와 tokenizer 객체를 반환\n",
    "split_tensor, split_tokenizer = tokenize(split_corpus)\n",
    "\n",
    "# ✅ 전체 어휘 사전에 포함된 단어 수 출력\n",
    "print(\"Split Vocab Size:\", len(split_tokenizer.index_word))\n"
   ]
  },
  {
   "cell_type": "code",
   "execution_count": 14,
   "id": "7eb22595",
   "metadata": {},
   "outputs": [
    {
     "name": "stdout",
     "output_type": "stream",
     "text": [
      "0 : 이\n",
      "1 : 밝혔다.\n",
      "2 : 있다.\n",
      "3 : 말했다.\n",
      "4 : 수\n",
      "5 : 있는\n",
      "6 : 그는\n",
      "7 : 대한\n",
      "8 : 위해\n",
      "9 : 전했다.\n",
      "10 : 지난\n",
      "11 : 이번\n"
     ]
    }
   ],
   "source": [
    "# 단어 사전 (word → index)에서 인덱스와 단어를 출력\n",
    "for idx, word in enumerate(split_tokenizer.word_index):\n",
    "    print(idx, \":\", word)  # idx는 enumerate로 붙인 순서, word는 실제 단어 key\n",
    "\n",
    "    if idx > 10:  # 처음 11개까지만 출력\n",
    "        break\n"
   ]
  },
  {
   "cell_type": "markdown",
   "id": "89cb81c9",
   "metadata": {},
   "source": [
    "## 4. 형태소 기반 토큰화 (KoNLPy, 그 중에서도 가장 성능이 준수한 MeCab클래스 활용 및 실습)\n"
   ]
  },
  {
   "cell_type": "code",
   "execution_count": 15,
   "id": "a99e2730",
   "metadata": {},
   "outputs": [],
   "source": [
    "# 위에서 사용한 코드를 활용해 MeCab 단어 사전을 만들어보세요. \n",
    "# Hint : mecab.morphs()를 사용해서 형태소분석을 합니다.\n",
    "def mecab_split(sentence):\n",
    "    return mecab.morphs(sentence)\n",
    "\n",
    "mecab_corpus = []\n",
    "\n",
    "for kor in filtered_corpus:\n",
    "    mecab_corpus.append(mecab_split(kor))"
   ]
  },
  {
   "cell_type": "code",
   "execution_count": 16,
   "id": "53900852",
   "metadata": {},
   "outputs": [
    {
     "name": "stdout",
     "output_type": "stream",
     "text": [
      "MeCab Vocab Size: 52279\n"
     ]
    }
   ],
   "source": [
    "mecab_tensor, mecab_tokenizer = tokenize(mecab_corpus)\n",
    "\n",
    "print(\"MeCab Vocab Size:\", len(mecab_tokenizer.index_word))"
   ]
  },
  {
   "cell_type": "markdown",
   "id": "95acb94d",
   "metadata": {},
   "source": [
    "https://aiopen.etri.re.kr/bertModel\n",
    "앞서 실습했던 공백 기반 단어 사전에 비해 단어 수가 현저히 줄어든 것을 확인하셨을 겁니다. 이는 곧 연산량의 감소로 이어져 더 빠른 학습을 가능케 하고, 심지어 모델이 튜닝해야 하는 매개변수(Parameter) 수가 줄어들어 학습도 더 잘 된답니다! 적어도 한국어를 처리할 때는 공백 기반 토큰화를 절대 지양하셔야 해요!\n",
    "\n",
    "WordPiece는 빈도 기반의 통계적 패턴만 반영된 단순 Subword 토크나이저로, 언어의 문법이나 의미 정보는 반영하지 않음.\n",
    "반면, 정확한 형태소 분석기는 문법과 의미를 고려하므로, Subword 기반 토크나이저보다 더 높은 성능을 낼 수 있음.\n",
    "그러나 형태소 분석기는 지속적인 유지보수와 언어별 전문성이 필요함.\n",
    "\n",
    "SentencePiece는:\n",
    "언어에 중립적이며,\n",
    "OOV(Out-of-Vocabulary) 문제에 강하고,\n",
    "혼합 언어 텍스트 처리에 유리함.\n",
    "별도의 언어 지식 없이 쉽게 학습 가능하고,\n",
    "대부분의 경우 언어 특화 토크나이저와 유사하거나 더 나은 성능을 보임.\n",
    "\n",
    "* tokenizer.sequences_to_texts() 함수를 사용하여 Decoding\n",
    "* tokenizer.index_word 를 사용하여 Decoding"
   ]
  },
  {
   "cell_type": "code",
   "execution_count": 17,
   "id": "53c453f2",
   "metadata": {},
   "outputs": [
    {
     "name": "stdout",
     "output_type": "stream",
     "text": [
      "구 엔터 코로 지예 시장 대변인 은 2 일 , 클라우스 보베 라이트 시장 이 박물관 의 큐레이터 에게 보낸 서신 을 통해 히틀러 인형 의 전시 에 대해 재고 해 줄 것 과 전시 방법 에 대해 신중 하 게 결정 할 것 을 요구 했 다고 전했 다 .\n"
     ]
    }
   ],
   "source": [
    " \n",
    "# Case 1\n",
    "texts = mecab_tokenizer.sequences_to_texts([mecab_tensor[100]])\n",
    "print(texts[0])"
   ]
  },
  {
   "cell_type": "code",
   "execution_count": 18,
   "id": "e4a4fb7b",
   "metadata": {},
   "outputs": [
    {
     "name": "stdout",
     "output_type": "stream",
     "text": [
      "구 엔터 코로 지예 시장 대변인 은 2 일 , 클라우스 보베 라이트 시장 이 박물관 의 큐레이터 에게 보낸 서신 을 통해 히틀러 인형 의 전시 에 대해 재고 해 줄 것 과 전시 방법 에 대해 신중 하 게 결정 할 것 을 요구 했 다고 전했 다 . \n"
     ]
    }
   ],
   "source": [
    "# Case 2\n",
    "sentence = \"\"\n",
    "\n",
    "for w in mecab_tensor[100]:\n",
    "    if w == 0: continue\n",
    "    sentence += mecab_tokenizer.index_word[w] + \" \"\n",
    "\n",
    "print(sentence)"
   ]
  },
  {
   "cell_type": "code",
   "execution_count": 24,
   "id": "b47c633a",
   "metadata": {},
   "outputs": [
    {
     "name": "stdout",
     "output_type": "stream",
     "text": [
      "Model: \"sequential_1\"\n",
      "_________________________________________________________________\n",
      "Layer (type)                 Output Shape              Param #   \n",
      "=================================================================\n",
      "embedding_1 (Embedding)      (None, 40, 128)           30391808  \n",
      "_________________________________________________________________\n",
      "conv1d_1 (Conv1D)            (None, 36, 128)           82048     \n",
      "_________________________________________________________________\n",
      "max_pooling1d (MaxPooling1D) (None, 18, 128)           0         \n",
      "_________________________________________________________________\n",
      "flatten (Flatten)            (None, 2304)              0         \n",
      "_________________________________________________________________\n",
      "dense_2 (Dense)              (None, 64)                147520    \n",
      "_________________________________________________________________\n",
      "dropout_1 (Dropout)          (None, 64)                0         \n",
      "_________________________________________________________________\n",
      "dense_3 (Dense)              (None, 1)                 65        \n",
      "=================================================================\n",
      "Total params: 30,621,441\n",
      "Trainable params: 30,621,441\n",
      "Non-trainable params: 0\n",
      "_________________________________________________________________\n"
     ]
    }
   ],
   "source": [
    "import tensorflow as tf\n",
    "from tensorflow.keras import layers, models\n",
    "\n",
    "vocab_size = len(split_tokenizer.word_index) + 1  # 패딩 포함\n",
    "max_len = split_tensor.shape[1]  # 패딩된 시퀀스의 길이\n",
    "\n",
    "model = models.Sequential([\n",
    "    layers.Embedding(input_dim=vocab_size, output_dim=128, input_length=max_len),\n",
    "    \n",
    "    # CNN block: 문장에서 지역적 패턴(어절/구)을 감지\n",
    "    layers.Conv1D(128, 5, activation='relu'),\n",
    "    layers.MaxPooling1D(pool_size=2),\n",
    "    layers.Flatten(),\n",
    "    \n",
    "    # Fully Connected Layers\n",
    "    layers.Dense(64, activation='relu'),\n",
    "    layers.Dropout(0.5),\n",
    "    layers.Dense(1, activation='sigmoid')  # 이진 분류\n",
    "])\n",
    "\n",
    "model.compile(optimizer='adam',\n",
    "              loss='binary_crossentropy',\n",
    "              metrics=['accuracy'])\n",
    "\n",
    "model.summary()\n"
   ]
  },
  {
   "cell_type": "code",
   "execution_count": 26,
   "id": "d5f85fbd",
   "metadata": {},
   "outputs": [],
   "source": [
    "import numpy as np\n",
    "\n",
    "# mecab_tensor 또는 split_tensor의 길이만큼 0 또는 1 무작위로 생성\n",
    "y = np.random.randint(0, 2, size=(len(split_tensor),))  # 예: 이진 분류용 라벨\n"
   ]
  },
  {
   "cell_type": "code",
   "execution_count": 27,
   "id": "ff40221b",
   "metadata": {},
   "outputs": [
    {
     "name": "stdout",
     "output_type": "stream",
     "text": [
      "Epoch 1/10\n",
      "1539/1539 [==============================] - 31s 18ms/step - loss: 0.6935 - accuracy: 0.5016 - val_loss: 0.6933 - val_accuracy: 0.4985\n",
      "Epoch 2/10\n",
      "1539/1539 [==============================] - 28s 18ms/step - loss: 0.6008 - accuracy: 0.6805 - val_loss: 0.7822 - val_accuracy: 0.5020\n",
      "Epoch 3/10\n",
      "1539/1539 [==============================] - 28s 18ms/step - loss: 0.0675 - accuracy: 0.9785 - val_loss: 1.2565 - val_accuracy: 0.5008\n",
      "Epoch 4/10\n",
      "1539/1539 [==============================] - 28s 18ms/step - loss: 0.0083 - accuracy: 0.9981 - val_loss: 2.3155 - val_accuracy: 0.4993\n",
      "Epoch 5/10\n",
      "1539/1539 [==============================] - 28s 18ms/step - loss: 0.0025 - accuracy: 0.9993 - val_loss: 2.9752 - val_accuracy: 0.4996\n",
      "Epoch 6/10\n",
      "1539/1539 [==============================] - 28s 18ms/step - loss: 0.0016 - accuracy: 0.9994 - val_loss: 3.3953 - val_accuracy: 0.5004\n",
      "Epoch 7/10\n",
      "1539/1539 [==============================] - 28s 18ms/step - loss: 0.0017 - accuracy: 0.9995 - val_loss: 3.8788 - val_accuracy: 0.4989\n",
      "Epoch 8/10\n",
      "1539/1539 [==============================] - 28s 18ms/step - loss: 0.0017 - accuracy: 0.9992 - val_loss: 4.7125 - val_accuracy: 0.5028\n",
      "Epoch 9/10\n",
      "1539/1539 [==============================] - 28s 18ms/step - loss: 0.0021 - accuracy: 0.9992 - val_loss: 4.6537 - val_accuracy: 0.5028\n",
      "Epoch 10/10\n",
      "1539/1539 [==============================] - 28s 18ms/step - loss: 0.0026 - accuracy: 0.9991 - val_loss: 4.1028 - val_accuracy: 0.5020\n"
     ]
    }
   ],
   "source": [
    "from sklearn.model_selection import train_test_split\n",
    "\n",
    "# 더미 y 생성 (예: 0/1)\n",
    "# y = np.random.randint(0, 2, size=(len(split_tensor),))\n",
    "\n",
    "# 혹은 이미 y가 있다면 아래처럼 사용\n",
    "x_train, x_test, y_train, y_test = train_test_split(split_tensor, y, test_size=0.2, random_state=42)\n",
    "\n",
    "history = model.fit(x_train, y_train,\n",
    "                    epochs=10,\n",
    "                    batch_size=32,\n",
    "                    validation_split=0.2,\n",
    "                    verbose=1)\n"
   ]
  },
  {
   "cell_type": "code",
   "execution_count": 28,
   "id": "88e15f87",
   "metadata": {},
   "outputs": [],
   "source": [
    "def show_history(history):\n",
    "    history_dict = history.history  # 모델 학습 결과가 저장된 history 객체에서 딕셔너리 추출\n",
    "\n",
    "    loss = history_dict['loss']  # 훈련 손실값\n",
    "    val_loss = history_dict['val_loss']  # 검증 손실값\n",
    "\n",
    "    epochs = range(1, len(loss) + 1)  # 에포크 수만큼 x축 값 생성 (1부터 시작)\n",
    "    fig = plt.figure(figsize=(12, 5))  # 전체 그래프 크기 설정\n",
    "\n",
    "    # 🔹 손실(loss) 그래프 그리기\n",
    "    ax1 = fig.add_subplot(1, 2, 1)  # 1행 2열 중 첫 번째 그래프 (왼쪽)\n",
    "    ax1.plot(epochs, loss, 'b-', label='train_loss')  # 훈련 손실: 파란 선\n",
    "    ax1.plot(epochs, val_loss, 'r-', label='val_loss')  # 검증 손실: 빨간 선\n",
    "    ax1.set_title('Train and Validation Loss')  # 그래프 제목\n",
    "    ax1.set_xlabel('Epochs')  # x축 이름\n",
    "    ax1.set_ylabel('Loss')  # y축 이름\n",
    "    ax1.grid()  # 격자 추가\n",
    "    ax1.legend()  # 범례 표시\n",
    "\n",
    "    # 🔹 정확도(accuracy) 그래프 그리기\n",
    "    accuracy = history_dict['accuracy']  # 훈련 정확도\n",
    "    val_accuracy = history_dict['val_accuracy']  # 검증 정확도\n",
    "\n",
    "    ax2 = fig.add_subplot(1, 2, 2)  # 1행 2열 중 두 번째 그래프 (오른쪽)\n",
    "    ax2.plot(epochs, accuracy, 'b-', label='train_accuracy')  # 훈련 정확도: 파란 선\n",
    "    ax2.plot(epochs, val_accuracy, 'r-', label='val_accuracy')  # 검증 정확도: 빨간 선\n",
    "    ax2.set_title('Train and Validation Accuracy')  # 그래프 제목\n",
    "    ax2.set_xlabel('Epochs')  # x축 이름\n",
    "    ax2.set_ylabel('Accuracy')  # y축 이름\n",
    "    ax2.grid()  # 격자 추가\n",
    "    ax2.legend()  # 범례 표시\n",
    "\n",
    "    plt.show()  # 최종적으로 그래프 출력"
   ]
  },
  {
   "cell_type": "code",
   "execution_count": 29,
   "id": "f2c6399b",
   "metadata": {},
   "outputs": [
    {
     "data": {
      "image/png": "[encoded data removed]",
      "text/plain": [
       "<Figure size 864x360 with 2 Axes>"
      ]
     },
     "metadata": {
      "needs_background": "light"
     },
     "output_type": "display_data"
    }
   ],
   "source": [
    "show_history(history)\n"
   ]
  },
  {
   "cell_type": "code",
   "execution_count": 30,
   "id": "dc2452fd",
   "metadata": {},
   "outputs": [
    {
     "name": "stdout",
     "output_type": "stream",
     "text": [
      "481/481 [==============================] - 1s 2ms/step - loss: 4.1285 - accuracy: 0.4964\n"
     ]
    },
    {
     "data": {
      "text/plain": [
       "[4.1285080909729, 0.4964244067668915]"
      ]
     },
     "execution_count": 30,
     "metadata": {},
     "output_type": "execute_result"
    }
   ],
   "source": [
    "model.evaluate(x_test, y_test)"
   ]
  },
  {
   "cell_type": "markdown",
   "id": "94c1bad6",
   "metadata": {},
   "source": [
    "# 과적합"
   ]
  },
  {
   "cell_type": "code",
   "execution_count": 31,
   "id": "87d63cae",
   "metadata": {},
   "outputs": [],
   "source": [
    "from tensorflow.keras import layers, models, regularizers\n",
    "\n",
    "model = models.Sequential([\n",
    "    layers.Embedding(input_dim=vocab_size, output_dim=128, input_length=max_len),\n",
    "\n",
    "    layers.Bidirectional(layers.LSTM(64, return_sequences=False)),\n",
    "    layers.Dropout(0.5),\n",
    "\n",
    "    layers.Dense(64, activation='relu', kernel_regularizer=regularizers.l2(0.01)),\n",
    "    layers.Dropout(0.3),\n",
    "\n",
    "    layers.Dense(1, activation='sigmoid')\n",
    "])\n",
    "\n",
    "model.compile(optimizer='adam',\n",
    "              loss='binary_crossentropy',\n",
    "              metrics=['accuracy'])\n"
   ]
  },
  {
   "cell_type": "code",
   "execution_count": 33,
   "id": "e37c8163",
   "metadata": {},
   "outputs": [],
   "source": [
    "from sklearn.model_selection import train_test_split\n",
    "\n",
    "# 1단계: 먼저 전체를 train+val / test로 분할 (20%는 test)\n",
    "x_temp, x_test, y_temp, y_test = train_test_split(mecab_tensor, y, test_size=0.2, random_state=42)\n",
    "\n",
    "# 2단계: train+val에서 다시 train / val 분할 (val 비율 25% → 전체의 20%)\n",
    "x_train, x_val, y_train, y_val = train_test_split(x_temp, y_temp, test_size=0.25, random_state=42)\n"
   ]
  },
  {
   "cell_type": "code",
   "execution_count": 34,
   "id": "22d8557c",
   "metadata": {},
   "outputs": [
    {
     "name": "stdout",
     "output_type": "stream",
     "text": [
      "Epoch 1/20\n",
      "WARNING:tensorflow:Model was constructed with shape (None, 40) for input KerasTensor(type_spec=TensorSpec(shape=(None, 40), dtype=tf.float32, name='embedding_2_input'), name='embedding_2_input', description=\"created by layer 'embedding_2_input'\"), but it was called on an input with incompatible shape (64, 85).\n",
      "WARNING:tensorflow:Model was constructed with shape (None, 40) for input KerasTensor(type_spec=TensorSpec(shape=(None, 40), dtype=tf.float32, name='embedding_2_input'), name='embedding_2_input', description=\"created by layer 'embedding_2_input'\"), but it was called on an input with incompatible shape (64, 85).\n",
      "719/721 [============================>.] - ETA: 0s - loss: 0.7553 - accuracy: 0.5015WARNING:tensorflow:Model was constructed with shape (None, 40) for input KerasTensor(type_spec=TensorSpec(shape=(None, 40), dtype=tf.float32, name='embedding_2_input'), name='embedding_2_input', description=\"created by layer 'embedding_2_input'\"), but it was called on an input with incompatible shape (None, 85).\n",
      "721/721 [==============================] - 20s 25ms/step - loss: 0.7552 - accuracy: 0.5015 - val_loss: 0.6932 - val_accuracy: 0.5017\n",
      "Epoch 2/20\n",
      "721/721 [==============================] - 18s 24ms/step - loss: 0.6932 - accuracy: 0.4982 - val_loss: 0.6931 - val_accuracy: 0.5017\n",
      "Epoch 3/20\n",
      "721/721 [==============================] - 18s 24ms/step - loss: 0.6932 - accuracy: 0.5015 - val_loss: 0.6931 - val_accuracy: 0.5017\n",
      "Epoch 4/20\n",
      "721/721 [==============================] - 18s 24ms/step - loss: 0.6932 - accuracy: 0.4983 - val_loss: 0.6932 - val_accuracy: 0.4983\n",
      "Epoch 5/20\n",
      "721/721 [==============================] - 18s 25ms/step - loss: 0.6931 - accuracy: 0.5020 - val_loss: 0.6931 - val_accuracy: 0.5017\n",
      "Epoch 6/20\n",
      "721/721 [==============================] - 18s 24ms/step - loss: 0.6932 - accuracy: 0.5003 - val_loss: 0.6932 - val_accuracy: 0.4983\n"
     ]
    }
   ],
   "source": [
    "history = model.fit(x_train, y_train,\n",
    "                    epochs=20,\n",
    "                    batch_size=64,\n",
    "                    validation_data=(x_val, y_val),\n",
    "                    callbacks=callbacks)\n"
   ]
  },
  {
   "cell_type": "code",
   "execution_count": 35,
   "id": "acb6bde6",
   "metadata": {},
   "outputs": [
    {
     "name": "stdout",
     "output_type": "stream",
     "text": [
      "481/481 [==============================] - 2s 4ms/step - loss: 0.6931 - accuracy: 0.5027\n"
     ]
    },
    {
     "data": {
      "text/plain": [
       "[0.693134069442749, 0.5026654601097107]"
      ]
     },
     "execution_count": 35,
     "metadata": {},
     "output_type": "execute_result"
    }
   ],
   "source": [
    "model.evaluate(x_test, y_test)"
   ]
  },
  {
   "cell_type": "code",
   "execution_count": 36,
   "id": "d933d3cd",
   "metadata": {},
   "outputs": [
    {
     "data": {
      "image/png": "[encoded data removed]",
      "text/plain": [
       "<Figure size 864x360 with 2 Axes>"
      ]
     },
     "metadata": {
      "needs_background": "light"
     },
     "output_type": "display_data"
    }
   ],
   "source": [
    "show_history(history)\n"
   ]
  },
  {
   "cell_type": "code",
   "execution_count": null,
   "id": "8f9a851b",
   "metadata": {},
   "outputs": [],
   "source": [
    "\n",
    "\n"
   ]
  }
 ],
 "metadata": {
  "kernelspec": {
   "display_name": "Python 3 (ipykernel)",
   "language": "python",
   "name": "python3"
  },
  "language_info": {
   "codemirror_mode": {
    "name": "ipython",
    "version": 3
   },
   "file_extension": ".py",
   "mimetype": "text/x-python",
   "name": "python",
   "nbconvert_exporter": "python",
   "pygments_lexer": "ipython3",
   "version": "3.9.7"
  }
 },
 "nbformat": 4,
 "nbformat_minor": 5
}
